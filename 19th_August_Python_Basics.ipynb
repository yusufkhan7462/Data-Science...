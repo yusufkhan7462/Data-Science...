{
 "cells": [
  {
   "cell_type": "code",
   "execution_count": 1,
   "id": "a6370f0d",
   "metadata": {},
   "outputs": [
    {
     "name": "stdout",
     "output_type": "stream",
     "text": [
      "10\n",
      "20\n",
      "20\n",
      "10\n"
     ]
    }
   ],
   "source": [
    "\"\"\"Q.1. Declare two variables, `x` and `y`, and assign them integer values. Swap the\n",
    "values of these variables without using any temporary variable.\"\"\"\n",
    "# Let us declare two variables 'x' and 'y' and assign them two integers 10 and 20 respectively.\n",
    "# Method-1\n",
    "x=10\n",
    "y=20\n",
    "\n",
    "print(x)\n",
    "print(y)\n",
    "x=x+y # It gives 10+20=30,now we have x=30\n",
    "y=x-y # it gives 30-20=10, now we have y=10\n",
    "x=x-y #it gives 30-10=20, now we have x=20\n",
    "print(x)\n",
    "print(y)\n",
    "# We will get swaped values x=20, y=10\n"
   ]
  },
  {
   "cell_type": "code",
   "execution_count": 2,
   "id": "16bda413",
   "metadata": {},
   "outputs": [
    {
     "name": "stdout",
     "output_type": "stream",
     "text": [
      "Enter the length of rectangle:10\n",
      "Enter the breadth of rectangle:20\n",
      "Area of rectangle whose length is 10.0 and breadth is 20.0 is 200.0 square unit\n"
     ]
    }
   ],
   "source": [
    "'''2. Create a program that calculates the area of a rectangle. Take the length and\n",
    "width as inputs from the user and store them in variables. Calculate and\n",
    "display the area.'''\n",
    "\n",
    "length=float(input(\"Enter the length of rectangle:\"))\n",
    "width=float(input(\"Enter the breadth of rectangle:\"))\n",
    "area_of_rectangle=length*width #Area of rectangle\n",
    "print(\"Area of rectangle whose length is\" ,length ,\"and breadth is\",width,\"is\", area_of_rectangle,\"square unit\")"
   ]
  },
  {
   "cell_type": "code",
   "execution_count": 3,
   "id": "b5438c0f",
   "metadata": {},
   "outputs": [
    {
     "name": "stdout",
     "output_type": "stream",
     "text": [
      "Enter the temperature in celsius:0\n",
      "0.0 degree celsius is equal to 32.0 degree Fahrenheit.\n"
     ]
    }
   ],
   "source": [
    "'''3. Write a Python program that converts temperatures from Celsius to\n",
    "Fahrenheit. Take the temperature in Celsius as input, store it in a variable,\n",
    "convert it to Fahrenheit, and display the result.'''\n",
    "\n",
    "celsius=float(input(\"Enter the temperature in celsius:\"))\n",
    "\n",
    "fahrenheit=(celsius*9/5)+32 # Formula to convert Celsius to Fahrenheit\n",
    "\n",
    "print(celsius,\"degree celsius is equal to\",fahrenheit,\"degree Fahrenheit.\")"
   ]
  },
  {
   "cell_type": "code",
   "execution_count": 6,
   "id": "a2c06ca5",
   "metadata": {},
   "outputs": [
    {
     "name": "stdout",
     "output_type": "stream",
     "text": [
      "Enter the string:yusuf\n",
      "Length of the string is 5\n"
     ]
    }
   ],
   "source": [
    "#TOPIC: String Based Questions\n",
    "'''1. Write a Python program that takes a string as input and prints the length of\n",
    "the string.'''\n",
    "\n",
    "string=input(\"Enter the string:\")\n",
    "len_of_string=len(string) \n",
    "print(\"Length of the string is\",len_of_string)\n"
   ]
  },
  {
   "cell_type": "code",
   "execution_count": 8,
   "id": "c1158e46",
   "metadata": {},
   "outputs": [
    {
     "name": "stdout",
     "output_type": "stream",
     "text": [
      "write your sentence:yusuf khan\n",
      "Number of vowels in your sentence is 3\n"
     ]
    }
   ],
   "source": [
    "'''2. Create a program that takes a sentence from the user and counts the number\n",
    "of vowels (a, e, i, o, u) in the string.'''\n",
    "sentence=input(\"write your sentence:\")\n",
    "sent_lower=sentence.lower()\n",
    "l=['a','e','i','o','u']\n",
    "count=0\n",
    "for vowel in sentence: \n",
    "    if vowel in l:\n",
    "        count=count+1\n",
    "print('Number of vowels in your sentence is',count) "
   ]
  },
  {
   "cell_type": "code",
   "execution_count": 9,
   "id": "a7f83342",
   "metadata": {},
   "outputs": [
    {
     "name": "stdout",
     "output_type": "stream",
     "text": [
      "Enter the string:yusuf\n",
      "Revers order of characters of yusuf is fusuy\n"
     ]
    }
   ],
   "source": [
    "'''3.Given a string, reverse the order of characters using string slicing and print\n",
    "the reversed string.'''\n",
    "string=input(\"Enter the string:\")\n",
    "reverse_of_string_character=string[::-1]\n",
    "print(\"Revers order of characters of\",string,\"is\",reverse_of_string_character)"
   ]
  },
  {
   "cell_type": "code",
   "execution_count": 10,
   "id": "98b78ab9",
   "metadata": {},
   "outputs": [
    {
     "name": "stdout",
     "output_type": "stream",
     "text": [
      " Enter the string:madam\n",
      "madam is a palindrome string.\n"
     ]
    }
   ],
   "source": [
    "'''4. Write a program that takes a string as input and checks if it is a palindrome'''\n",
    "str_ing=input(\" Enter the string:\")\n",
    "str_lower=str_ing.lower() # python is case sencetive\n",
    "reverse=str_lower[::-1]\n",
    "if str_lower == reverse:\n",
    "    print(str_ing,\"is a palindrome string.\")\n",
    "else:\n",
    "    print(str_ing,\"is not palindrome\")"
   ]
  },
  {
   "cell_type": "code",
   "execution_count": 11,
   "id": "6820d699",
   "metadata": {},
   "outputs": [
    {
     "name": "stdout",
     "output_type": "stream",
     "text": [
      "Enter string here:y u suf  kh an\n",
      "yusufkhan\n"
     ]
    }
   ],
   "source": [
    "'''5.Create a program that takes a string as input and removes all the spaces from\n",
    "it. Print the modified string without spaces.'''\n",
    "\n",
    "\n",
    "string=input(\"Enter string here:\")\n",
    "remove_space=string.replace(\" \",\"\")\n",
    "print(remove_space)"
   ]
  },
  {
   "cell_type": "code",
   "execution_count": null,
   "id": "a6fd3c93",
   "metadata": {},
   "outputs": [],
   "source": []
  }
 ],
 "metadata": {
  "kernelspec": {
   "display_name": "Python 3 (ipykernel)",
   "language": "python",
   "name": "python3"
  },
  "language_info": {
   "codemirror_mode": {
    "name": "ipython",
    "version": 3
   },
   "file_extension": ".py",
   "mimetype": "text/x-python",
   "name": "python",
   "nbconvert_exporter": "python",
   "pygments_lexer": "ipython3",
   "version": "3.10.9"
  }
 },
 "nbformat": 4,
 "nbformat_minor": 5
}
